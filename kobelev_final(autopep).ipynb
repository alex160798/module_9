{
 "cells": [
  {
   "cell_type": "markdown",
   "metadata": {},
   "source": [
    "# Car Price prediction\n",
    "\n",
    "<img src=\"https://whatcar.vn/media/2018/09/car-lot-940x470.jpg\"/>\n",
    "\n",
    "# Прогнозирование стоимости автомобиля по характеристикам"
   ]
  },
  {
   "cell_type": "markdown",
   "metadata": {},
   "source": [
    "## Установка и импорт библиотек:"
   ]
  },
  {
   "cell_type": "code",
   "execution_count": null,
   "metadata": {
    "execution": {
     "iopub.execute_input": "2021-10-03T12:15:54.461358Z",
     "iopub.status.busy": "2021-10-03T12:15:54.460591Z",
     "iopub.status.idle": "2021-10-03T12:15:54.470664Z",
     "shell.execute_reply": "2021-10-03T12:15:54.468118Z",
     "shell.execute_reply.started": "2021-10-03T12:15:54.46131Z"
    }
   },
   "outputs": [],
   "source": [
    "# использование этой библиотеки связано со сложностями, приходится устанавливать ее, перезапускать Kernel,\n",
    "# и только тогда запускать остальной код. Тогда все работает\n",
    "#!pip install lazypredict"
   ]
  },
  {
   "cell_type": "code",
   "execution_count": null,
   "metadata": {
    "_kg_hide-input": true,
    "execution": {
     "iopub.execute_input": "2021-10-03T12:15:54.473204Z",
     "iopub.status.busy": "2021-10-03T12:15:54.472834Z",
     "iopub.status.idle": "2021-10-03T12:16:00.606139Z",
     "shell.execute_reply": "2021-10-03T12:16:00.605293Z",
     "shell.execute_reply.started": "2021-10-03T12:15:54.473168Z"
    }
   },
   "outputs": [],
   "source": [
    "!pip install - q tensorflow == 2.3"
   ]
  },
  {
   "cell_type": "code",
   "execution_count": null,
   "metadata": {
    "_kg_hide-input": true,
    "execution": {
     "iopub.execute_input": "2021-10-03T12:16:00.610042Z",
     "iopub.status.busy": "2021-10-03T12:16:00.60977Z",
     "iopub.status.idle": "2021-10-03T12:16:06.411464Z",
     "shell.execute_reply": "2021-10-03T12:16:06.410453Z",
     "shell.execute_reply.started": "2021-10-03T12:16:00.610013Z"
    }
   },
   "outputs": [],
   "source": [
    "# аугментации изображений\n",
    "!pip install albumentations - q"
   ]
  },
  {
   "cell_type": "code",
   "execution_count": null,
   "metadata": {
    "_cell_guid": "b1076dfc-b9ad-4769-8c92-a6c4dae69d19",
    "_kg_hide-input": true,
    "_uuid": "8f2839f25d086af736a60e9eeb907d3b93b6e0e5",
    "execution": {
     "iopub.execute_input": "2021-10-03T12:16:06.414745Z",
     "iopub.status.busy": "2021-10-03T12:16:06.414361Z",
     "iopub.status.idle": "2021-10-03T12:16:10.108629Z",
     "shell.execute_reply": "2021-10-03T12:16:10.107802Z",
     "shell.execute_reply.started": "2021-10-03T12:16:06.414691Z"
    }
   },
   "outputs": [],
   "source": [
    "from pylab import rcParams\n",
    "import matplotlib.pyplot as plt\n",
    "from nltk.corpus import stopwords\n",
    "import random\n",
    "import numpy as np  # linear algebra\n",
    "import pandas as pd  # data processing, CSV file I/O (e.g. pd.read_csv)\n",
    "import os\n",
    "import sys\n",
    "import PIL\n",
    "import cv2\n",
    "import re\n",
    "import string\n",
    "\n",
    "\n",
    "from catboost import CatBoostRegressor\n",
    "from sklearn.model_selection import train_test_split, KFold\n",
    "from sklearn.preprocessing import MinMaxScaler\n",
    "from sklearn.feature_selection import f_classif, mutual_info_classif\n",
    "from pandas_profiling import ProfileReport\n",
    "from lazypredict.Supervised import LazyRegressor\n",
    "from tqdm.notebook import tqdm\n",
    "\n",
    "# # keras\n",
    "import tensorflow as tf\n",
    "import tensorflow.keras.layers as L\n",
    "from tensorflow.keras.models import Model, Sequential\n",
    "from tensorflow.keras.preprocessing.text import Tokenizer\n",
    "from tensorflow.keras.preprocessing import sequence\n",
    "from tensorflow.keras.callbacks import ModelCheckpoint, EarlyStopping\n",
    "import albumentations as A\n",
    "\n",
    "# nltk\n",
    "import nltk\n",
    "nltk.download('stopwords')\n",
    "\n",
    "# plt\n",
    "# увеличим дефолтный размер графиков\n",
    "rcParams['figure.figsize'] = 10, 5\n",
    "# графики в svg выглядят более четкими\n",
    "%config InlineBackend.figure_format = 'svg'\n",
    "%matplotlib inline"
   ]
  },
  {
   "cell_type": "code",
   "execution_count": null,
   "metadata": {
    "_kg_hide-input": true,
    "execution": {
     "iopub.execute_input": "2021-10-03T12:16:10.11235Z",
     "iopub.status.busy": "2021-10-03T12:16:10.112093Z",
     "iopub.status.idle": "2021-10-03T12:16:10.1252Z",
     "shell.execute_reply": "2021-10-03T12:16:10.124441Z",
     "shell.execute_reply.started": "2021-10-03T12:16:10.112324Z"
    }
   },
   "outputs": [],
   "source": [
    "print('Python       :', sys.version.split('\\n')[0])\n",
    "print('Numpy        :', np.__version__)\n",
    "print('Tensorflow   :', tf.__version__)"
   ]
  },
  {
   "cell_type": "code",
   "execution_count": null,
   "metadata": {
    "_kg_hide-input": true,
    "execution": {
     "iopub.execute_input": "2021-10-03T12:16:10.127635Z",
     "iopub.status.busy": "2021-10-03T12:16:10.12738Z",
     "iopub.status.idle": "2021-10-03T12:16:10.13514Z",
     "shell.execute_reply": "2021-10-03T12:16:10.134257Z",
     "shell.execute_reply.started": "2021-10-03T12:16:10.127612Z"
    }
   },
   "outputs": [],
   "source": [
    "def mape(y_true, y_pred):\n",
    "    return np.mean(np.abs((y_pred-y_true)/y_true))"
   ]
  },
  {
   "cell_type": "code",
   "execution_count": null,
   "metadata": {
    "_kg_hide-input": true,
    "execution": {
     "iopub.execute_input": "2021-10-03T12:16:10.137191Z",
     "iopub.status.busy": "2021-10-03T12:16:10.136758Z",
     "iopub.status.idle": "2021-10-03T12:16:10.144483Z",
     "shell.execute_reply": "2021-10-03T12:16:10.143524Z",
     "shell.execute_reply.started": "2021-10-03T12:16:10.137149Z"
    }
   },
   "outputs": [],
   "source": [
    "# фиксируем RANDOM_SEED\n",
    "RANDOM_SEED = 42\n",
    "np.random.seed(RANDOM_SEED)"
   ]
  },
  {
   "cell_type": "code",
   "execution_count": null,
   "metadata": {
    "_kg_hide-input": true,
    "execution": {
     "iopub.execute_input": "2021-10-03T12:16:10.14628Z",
     "iopub.status.busy": "2021-10-03T12:16:10.145854Z",
     "iopub.status.idle": "2021-10-03T12:16:12.264399Z",
     "shell.execute_reply": "2021-10-03T12:16:12.263484Z",
     "shell.execute_reply.started": "2021-10-03T12:16:10.146242Z"
    }
   },
   "outputs": [],
   "source": [
    "!pip freeze > requirements.txt"
   ]
  },
  {
   "cell_type": "markdown",
   "metadata": {},
   "source": [
    "# DATA"
   ]
  },
  {
   "cell_type": "code",
   "execution_count": null,
   "metadata": {
    "_cell_guid": "79c7e3d0-c299-4dcb-8224-4455121ee9b0",
    "_uuid": "d629ff2d2480ee46fbb7e2d37f6b5fab8052498a",
    "execution": {
     "iopub.execute_input": "2021-10-03T12:16:12.2673Z",
     "iopub.status.busy": "2021-10-03T12:16:12.267008Z",
     "iopub.status.idle": "2021-10-03T12:16:12.446175Z",
     "shell.execute_reply": "2021-10-03T12:16:12.445281Z",
     "shell.execute_reply.started": "2021-10-03T12:16:12.267271Z"
    }
   },
   "outputs": [],
   "source": [
    "DATA_DIR = '../input/sf-dst-car-price-prediction-part2/'\n",
    "train = pd.read_csv(DATA_DIR + 'train.csv')\n",
    "test = pd.read_csv(DATA_DIR + 'test.csv')\n",
    "sample_submission = pd.read_csv(DATA_DIR + 'sample_submission.csv')"
   ]
  },
  {
   "cell_type": "code",
   "execution_count": null,
   "metadata": {
    "execution": {
     "iopub.execute_input": "2021-10-03T12:16:12.447878Z",
     "iopub.status.busy": "2021-10-03T12:16:12.447469Z",
     "iopub.status.idle": "2021-10-03T12:16:12.474362Z",
     "shell.execute_reply": "2021-10-03T12:16:12.473478Z",
     "shell.execute_reply.started": "2021-10-03T12:16:12.447837Z"
    }
   },
   "outputs": [],
   "source": [
    "train.info()"
   ]
  },
  {
   "cell_type": "code",
   "execution_count": null,
   "metadata": {
    "execution": {
     "iopub.execute_input": "2021-10-03T12:16:12.476416Z",
     "iopub.status.busy": "2021-10-03T12:16:12.476028Z",
     "iopub.status.idle": "2021-10-03T12:16:12.547306Z",
     "shell.execute_reply": "2021-10-03T12:16:12.546431Z",
     "shell.execute_reply.started": "2021-10-03T12:16:12.476378Z"
    }
   },
   "outputs": [],
   "source": [
    "train.nunique()"
   ]
  },
  {
   "cell_type": "markdown",
   "metadata": {},
   "source": [
    "# Model 1: Создадим \"наивную\" модель \n",
    "Эта модель будет предсказывать среднюю цену по модели и году выпуска. \n",
    "C ней будем сравнивать другие модели.\n",
    "\n"
   ]
  },
  {
   "cell_type": "code",
   "execution_count": null,
   "metadata": {
    "execution": {
     "iopub.execute_input": "2021-10-03T12:16:12.549372Z",
     "iopub.status.busy": "2021-10-03T12:16:12.548994Z",
     "iopub.status.idle": "2021-10-03T12:16:12.559236Z",
     "shell.execute_reply": "2021-10-03T12:16:12.558481Z",
     "shell.execute_reply.started": "2021-10-03T12:16:12.549333Z"
    }
   },
   "outputs": [],
   "source": [
    "# split данных\n",
    "data_train, data_test = train_test_split(\n",
    "    train, test_size=0.15, shuffle=True, random_state=RANDOM_SEED)"
   ]
  },
  {
   "cell_type": "code",
   "execution_count": null,
   "metadata": {
    "execution": {
     "iopub.execute_input": "2021-10-03T12:16:12.561375Z",
     "iopub.status.busy": "2021-10-03T12:16:12.560944Z",
     "iopub.status.idle": "2021-10-03T12:16:16.503811Z",
     "shell.execute_reply": "2021-10-03T12:16:16.502131Z",
     "shell.execute_reply.started": "2021-10-03T12:16:12.561338Z"
    }
   },
   "outputs": [],
   "source": [
    "# Наивная модель\n",
    "predicts = []\n",
    "for index, row in pd.DataFrame(data_test[['model_info', 'productionDate']]).iterrows():\n",
    "    query = f\"model_info == '{row[0]}' and productionDate == '{row[1]}'\"\n",
    "    predicts.append(data_train.query(query)['price'].median())\n",
    "\n",
    "# заполним не найденные совпадения\n",
    "predicts = pd.DataFrame(predicts)\n",
    "predicts = predicts.fillna(predicts.median())\n",
    "\n",
    "# округлим\n",
    "predicts = (predicts // 1000) * 1000\n",
    "\n",
    "# оцениваем точность\n",
    "print(\n",
    "    f\"Точность наивной модели по метрике MAPE: {(mape(data_test['price'], predicts.values[:, 0]))*100:0.2f}%\")"
   ]
  },
  {
   "cell_type": "markdown",
   "metadata": {},
   "source": [
    "# EDA"
   ]
  },
  {
   "cell_type": "markdown",
   "metadata": {},
   "source": [
    "Проведем быстрый анализ данных для того, чтобы понимать, сможет ли с этими данными работать наш алгоритм."
   ]
  },
  {
   "cell_type": "code",
   "execution_count": null,
   "metadata": {
    "execution": {
     "iopub.execute_input": "2021-10-03T12:16:16.505847Z",
     "iopub.status.busy": "2021-10-03T12:16:16.505503Z",
     "iopub.status.idle": "2021-10-03T12:16:16.52782Z",
     "shell.execute_reply": "2021-10-03T12:16:16.527136Z",
     "shell.execute_reply.started": "2021-10-03T12:16:16.505809Z"
    }
   },
   "outputs": [],
   "source": [
    "# Для корректной обработки признаков объединяем трейн и тест в один датасет\n",
    "train['sample'] = 1\n",
    "test['sample'] = 0\n",
    "test['price'] = 0\n",
    "\n",
    "data = test.append(train, sort=False).reset_index(drop=True)"
   ]
  },
  {
   "cell_type": "code",
   "execution_count": null,
   "metadata": {
    "execution": {
     "iopub.execute_input": "2021-10-03T12:16:16.529819Z",
     "iopub.status.busy": "2021-10-03T12:16:16.529302Z",
     "iopub.status.idle": "2021-10-03T12:16:16.533364Z",
     "shell.execute_reply": "2021-10-03T12:16:16.532305Z",
     "shell.execute_reply.started": "2021-10-03T12:16:16.529778Z"
    }
   },
   "outputs": [],
   "source": [
    "# Для быстрой оценки используем pandas_profiling\n",
    "# ProfileReport(data)"
   ]
  },
  {
   "cell_type": "markdown",
   "metadata": {},
   "source": [
    "### Получаем следующий перечень признаков:\n",
    " - bodyType, тип кузова (категориальный). Поскольку у нас уже имеются данные о кол-ве дверей, данный столбец можно от этой информации избавить, уменьшив при этом cardinality;\n",
    " - brand, марка автомобиля (категориальный). Представлен всего тремя видами, в обработке не нуждается;\n",
    " - color, цвет автомобиля (категориальный). 11 видов, в обработке не нуждается;\n",
    " - description, текстовый. Требует обработки нейросетью для использования;\n",
    " - engineDisplacement, объем двигателя (категориальный). Можно убрать сочетание LTR и переделать признак в числовой. Пока непонятно, есть ли в этом необходимость;\n",
    " - enginePower, мощность двигателя (категориальный). Также можно убрать N12 и переделать в числовой. Может помочь избавиться от HIGH CARDINALITY;\n",
    " - fuelType, вид топлива (категориальный). 4 вида, в обработке не нуждается;\n",
    " - mileage, пробег (числовой). Чрезвычайно много значений в начале. Требуется нормализация;\n",
    " - modelDate, год выпуска модели (числовой). Много значений в конце. Требуется нормализация;\n",
    " - model_info, название модели (категориальный). Много уникальных значений;\n",
    " - name, составной признак. Для различных записей содержит информацию о: названии модели, объеме двигателя, его мощности в лошадиных силах, типе коробки, наличии полного привода. Все эти данные имеются в других колонках, данный признак можно удалить;\n",
    " - numberOfDoors, кол-во дверей (категориальная). Обработки не требует;\n",
    " - productionDate, год производства автомобиля (числовой). Нормализуем;\n",
    " - sell_id, идентификационный номер. Для построения модели не используется;\n",
    " - vehicleConfiguration, составной признак. Может содержать информацию о: типе кузова, кол-ве дверей, типе коробки, объеме двигателя. Поскольку в других колонках уже содержится вся эта информация, признак можно удалить;\n",
    " - vehicleTransmission, тип КПП (категориальный). 4 вида значений, обработки не требует.\n",
    " - Владельцы (категориальный). Можно убрать текст;\n",
    " - Владение, сколько находится в собственности последнего владельца. Огромное кол-во пропусков (более 64%). Скорее всего, данный признак придется удалить;\n",
    " - ПТС (категориальный). 2 вида значений, в обработке не нуждается;\n",
    " - Привод (категориальный). 3 вида значений, в обработке не нуждается;\n",
    " - Руль (категориальный). 2 вида значений, но одного из них настолько мало, что признак использовать не получится;\n",
    " - price, стоимость автомобиля (числовой). Целевой признак, который нужно предсказать."
   ]
  },
  {
   "cell_type": "markdown",
   "metadata": {},
   "source": [
    "# PreProc Tabular Data"
   ]
  },
  {
   "cell_type": "code",
   "execution_count": null,
   "metadata": {
    "execution": {
     "iopub.execute_input": "2021-10-03T12:16:16.53537Z",
     "iopub.status.busy": "2021-10-03T12:16:16.534913Z",
     "iopub.status.idle": "2021-10-03T12:16:16.544939Z",
     "shell.execute_reply": "2021-10-03T12:16:16.544201Z",
     "shell.execute_reply.started": "2021-10-03T12:16:16.535309Z"
    }
   },
   "outputs": [],
   "source": [
    "# разделяем все признаки на категориальные и числовые\n",
    "categorical_features = ['bodyType', 'brand', 'color', 'fuelType', 'model_info', 'numberOfDoors',\n",
    "                        'vehicleTransmission',\n",
    "                        'ПТС',\n",
    "                        'Привод']\n",
    "\n",
    "numerical_features = ['mileage', 'modelDateNorm', 'productionDateNorm', 'engineDisplacement',\n",
    "                      'enginePower', 'Владельцы',\n",
    "                      # 'Устаревание',\n",
    "                      'year_mileage'\n",
    "                      ]"
   ]
  },
  {
   "cell_type": "code",
   "execution_count": null,
   "metadata": {
    "execution": {
     "iopub.execute_input": "2021-10-03T12:16:16.546796Z",
     "iopub.status.busy": "2021-10-03T12:16:16.546438Z",
     "iopub.status.idle": "2021-10-03T12:16:16.565237Z",
     "shell.execute_reply": "2021-10-03T12:16:16.5644Z",
     "shell.execute_reply.started": "2021-10-03T12:16:16.54676Z"
    }
   },
   "outputs": [],
   "source": [
    "def preproc_data(df_input, train=0, lazy=0):\n",
    "    '''includes several functions to pre-process the predictor data.'''\n",
    "\n",
    "    df_output = df_input.copy()\n",
    "\n",
    "    # ################### 1. Предобработка ##############################################################\n",
    "    # убираем не нужные для модели признаки\n",
    "    df_output.drop(['Руль', 'Владение', 'sell_id', 'vehicleConfiguration',\n",
    "                   'name', 'description'], axis=1, inplace=True)\n",
    "\n",
    "    # убираем дупликаты строк\n",
    "    # df_output.drop_duplicates(inplace=True)\n",
    "\n",
    "    # генерация фич\n",
    "    # Устаревание\n",
    "    #df_output['Устаревание'] = df_output.productionDate-df_output.modelDate\n",
    "\n",
    "    # Ежегодный пробег\n",
    "    df_output['year_mileage'] = df_output.mileage / \\\n",
    "        (2021-df_output.productionDate)\n",
    "\n",
    "    # ################### Numerical Features ##############################################################\n",
    "    # Далее заполняем пропуски\n",
    "    # for column in numerical_features:\n",
    "    #df_output[column].fillna(df_output[column].median(), inplace=True)\n",
    "\n",
    "    # тут ваш код по обработке NAN\n",
    "    df_output['Владельцы'].fillna(\n",
    "        df_output['Владельцы'].mode()[0], inplace=True)\n",
    "    df_output.engineDisplacement[df_output.engineDisplacement ==\n",
    "                                 'undefined LTR'] = df_output.engineDisplacement.mode()[0]\n",
    "\n",
    "    #  Переводим признаки в числовые\n",
    "    df_output.engineDisplacement = df_output.engineDisplacement.apply(\n",
    "        lambda x: x.split()[0])\n",
    "    df_output.enginePower = df_output.enginePower.apply(lambda x: x.split()[0])\n",
    "    df_output['Владельцы'] = df_output['Владельцы'].apply(\n",
    "        lambda x: x.split()[0])\n",
    "\n",
    "    df_output.enginePower = df_output.enginePower.apply(lambda x: int(x))\n",
    "    df_output.engineDisplacement = df_output.engineDisplacement.apply(\n",
    "        lambda x: float(x))\n",
    "    df_output['Владельцы'] = df_output['Владельцы'].apply(lambda x: int(x))\n",
    "\n",
    "    # логарифмируем где нужно\n",
    "    df_output['modelDateNorm'] = np.log(2021 - df_output['modelDate'])\n",
    "    df_output['productionDateNorm'] = np.log(\n",
    "        2021 - df_output['productionDate'])\n",
    "\n",
    "    # Нормализация данных\n",
    "    scaler = MinMaxScaler()\n",
    "    for column in numerical_features:\n",
    "        df_output[column] = scaler.fit_transform(df_output[[column]])[:, 0]\n",
    "\n",
    "    # ################### Categorical Features ##############################################################\n",
    "    # bodyType - оставляем только тип кузова\n",
    "    df_output.bodyType = df_output.bodyType.apply(lambda x: x.split()[0])\n",
    "\n",
    "    # Label Encoding\n",
    "    if lazy == 0:\n",
    "        for column in categorical_features:\n",
    "            df_output[column] = df_output[column].astype('category').cat.codes\n",
    "\n",
    "    # One-Hot Encoding; для трейна отключаем, чтобы оценить важность фич\n",
    "    if (train == 0) and (lazy == 0):\n",
    "        df_output = pd.get_dummies(\n",
    "            df_output, columns=categorical_features, dummy_na=False)\n",
    "\n",
    "    # удаляем лишнее\n",
    "    df_output.drop(['modelDate', 'productionDate', ], axis=1, inplace=True)\n",
    "\n",
    "    return df_output"
   ]
  },
  {
   "cell_type": "code",
   "execution_count": null,
   "metadata": {
    "execution": {
     "iopub.execute_input": "2021-10-03T12:16:16.567441Z",
     "iopub.status.busy": "2021-10-03T12:16:16.567021Z",
     "iopub.status.idle": "2021-10-03T12:16:16.679139Z",
     "shell.execute_reply": "2021-10-03T12:16:16.678444Z",
     "shell.execute_reply.started": "2021-10-03T12:16:16.567403Z"
    }
   },
   "outputs": [],
   "source": [
    "# Запускаем и проверяем, что получилось\n",
    "df_preproc = preproc_data(data)\n",
    "# df_preproc.sample(10)"
   ]
  },
  {
   "cell_type": "code",
   "execution_count": null,
   "metadata": {
    "execution": {
     "iopub.execute_input": "2021-10-03T12:16:38.121848Z",
     "iopub.status.busy": "2021-10-03T12:16:38.121503Z",
     "iopub.status.idle": "2021-10-03T12:16:40.846039Z",
     "shell.execute_reply": "2021-10-03T12:16:40.845107Z",
     "shell.execute_reply.started": "2021-10-03T12:16:38.121816Z"
    }
   },
   "outputs": [],
   "source": [
    "# Посмотрим, как выглядят распределения числовых признаков\n",
    "def visualize_distributions(titles_values_dict):\n",
    "    columns = min(2, len(titles_values_dict))\n",
    "    rows = (len(titles_values_dict) - 1) // columns + 1\n",
    "    fig = plt.figure(figsize=(columns * 6, rows * 4))\n",
    "    for i, (title, values) in enumerate(titles_values_dict.items()):\n",
    "        hist, bins = np.histogram(values, bins=20)\n",
    "        ax = fig.add_subplot(rows, columns, i + 1)\n",
    "        ax.bar(bins[:-1], hist, width=(bins[1] - bins[0]) * 0.7)\n",
    "        ax.set_title(title)\n",
    "    plt.show()\n",
    "\n",
    "\n",
    "visualize_distributions({\n",
    "    'mileage': data['mileage'],\n",
    "    'log_mileage': data['mileage'].apply(np.log),\n",
    "\n",
    "    'modelDate': data['modelDate'],\n",
    "    'log_modelDate': df_preproc['modelDateNorm'],\n",
    "\n",
    "    'productionDate': data['productionDate'],\n",
    "    'log_productionDate': df_preproc['productionDateNorm'],\n",
    "\n",
    "    'engineDisplacement': df_preproc['engineDisplacement'],\n",
    "    'enginePower': df_preproc['enginePower'],\n",
    "\n",
    "    'Владельцы': df_preproc['Владельцы'],\n",
    "    # 'Устаревание' : df_preproc['Устаревание'],\n",
    "    'year_mileage': df_preproc['year_mileage'],\n",
    "})"
   ]
  },
  {
   "cell_type": "markdown",
   "metadata": {},
   "source": [
    "#### Логарифмирование улучшило распределения для modelDate и productionDate"
   ]
  },
  {
   "cell_type": "code",
   "execution_count": null,
   "metadata": {
    "execution": {
     "iopub.execute_input": "2021-10-03T12:16:51.421342Z",
     "iopub.status.busy": "2021-10-03T12:16:51.420107Z",
     "iopub.status.idle": "2021-10-03T12:16:52.128356Z",
     "shell.execute_reply": "2021-10-03T12:16:52.12765Z",
     "shell.execute_reply.started": "2021-10-03T12:16:51.421273Z"
    }
   },
   "outputs": [],
   "source": [
    "# оценим важность численных переменных\n",
    "train_preproc = preproc_data(train, 1)\n",
    "\n",
    "imp_num = pd.Series(f_classif(train_preproc[numerical_features], train_preproc.price)[\n",
    "                    0], index=numerical_features)\n",
    "imp_num.sort_values(inplace=True)\n",
    "imp_num.plot(kind='barh')"
   ]
  },
  {
   "cell_type": "code",
   "execution_count": null,
   "metadata": {
    "execution": {
     "iopub.execute_input": "2021-10-03T12:16:52.13103Z",
     "iopub.status.busy": "2021-10-03T12:16:52.130663Z",
     "iopub.status.idle": "2021-10-03T12:16:52.400245Z",
     "shell.execute_reply": "2021-10-03T12:16:52.399386Z",
     "shell.execute_reply.started": "2021-10-03T12:16:52.13099Z"
    }
   },
   "outputs": [],
   "source": [
    "# оценим важность категориальных переменных\n",
    "\n",
    "imp_cat = pd.Series(mutual_info_classif(train_preproc[categorical_features], train_preproc.price,\n",
    "                                        discrete_features=True), index=categorical_features)\n",
    "imp_cat.sort_values(inplace=True)\n",
    "imp_cat.plot(kind='barh')"
   ]
  },
  {
   "cell_type": "code",
   "execution_count": null,
   "metadata": {
    "execution": {
     "iopub.execute_input": "2021-10-03T12:16:52.402494Z",
     "iopub.status.busy": "2021-10-03T12:16:52.402124Z",
     "iopub.status.idle": "2021-10-03T12:16:52.41685Z",
     "shell.execute_reply": "2021-10-03T12:16:52.415979Z",
     "shell.execute_reply.started": "2021-10-03T12:16:52.402454Z"
    }
   },
   "outputs": [],
   "source": [
    "df_preproc.info()"
   ]
  },
  {
   "cell_type": "markdown",
   "metadata": {},
   "source": [
    "## Split data"
   ]
  },
  {
   "cell_type": "code",
   "execution_count": null,
   "metadata": {
    "execution": {
     "iopub.execute_input": "2021-10-03T12:16:52.418926Z",
     "iopub.status.busy": "2021-10-03T12:16:52.418308Z",
     "iopub.status.idle": "2021-10-03T12:16:52.459341Z",
     "shell.execute_reply": "2021-10-03T12:16:52.458661Z",
     "shell.execute_reply.started": "2021-10-03T12:16:52.418883Z"
    }
   },
   "outputs": [],
   "source": [
    "train_data = df_preproc.query('sample == 1').drop(['sample'], axis=1)\n",
    "test_data = df_preproc.query('sample == 0').drop(['sample'], axis=1)\n",
    "\n",
    "\n",
    "# предыдущая работа показала, что логарифмирование price\n",
    "# улучшает предсказание Catboost\n",
    "\n",
    "y = train_data.price.apply(np.log).values     # логарифмированный таргет\n",
    "X = train_data.drop(['price'], axis=1)\n",
    "X_sub = test_data.drop(['price'], axis=1)\n",
    "\n",
    "X_train, X_test, y_train, y_test = train_test_split(\n",
    "    X, y, test_size=0.15, shuffle=True, random_state=RANDOM_SEED)"
   ]
  },
  {
   "cell_type": "code",
   "execution_count": null,
   "metadata": {
    "execution": {
     "iopub.execute_input": "2021-10-03T12:16:52.463107Z",
     "iopub.status.busy": "2021-10-03T12:16:52.462829Z",
     "iopub.status.idle": "2021-10-03T12:16:52.46675Z",
     "shell.execute_reply": "2021-10-03T12:16:52.465687Z",
     "shell.execute_reply.started": "2021-10-03T12:16:52.46308Z"
    }
   },
   "outputs": [],
   "source": [
    "#reg = LazyRegressor(predictions=True, custom_metric = mape)\n",
    "#models, predictions = reg.fit(X_train, X_test, y_train, y_test)"
   ]
  },
  {
   "cell_type": "code",
   "execution_count": null,
   "metadata": {
    "execution": {
     "iopub.execute_input": "2021-10-03T12:16:52.470855Z",
     "iopub.status.busy": "2021-10-03T12:16:52.470204Z",
     "iopub.status.idle": "2021-10-03T12:16:52.47664Z",
     "shell.execute_reply": "2021-10-03T12:16:52.475512Z",
     "shell.execute_reply.started": "2021-10-03T12:16:52.470815Z"
    }
   },
   "outputs": [],
   "source": [
    "# ради интереса был использован LazyRegressor. К сожалению, как оказалось, в одном из последних обновлений\n",
    "# из списка был исключен CatBoostRegressor, так что оценить разницу по сравнению с лучшим здесь, ExtraTrees,\n",
    "# не получилось. Но CatBoost еще в прошлой работе показал хорошие результаты, так что используем его\n",
    "# print(models)"
   ]
  },
  {
   "cell_type": "markdown",
   "metadata": {},
   "source": [
    "# Model 2: CatBoostRegressor"
   ]
  },
  {
   "cell_type": "code",
   "execution_count": null,
   "metadata": {
    "_kg_hide-output": true,
    "collapsed": true,
    "execution": {
     "iopub.execute_input": "2021-10-03T12:16:52.47861Z",
     "iopub.status.busy": "2021-10-03T12:16:52.478207Z",
     "iopub.status.idle": "2021-10-03T12:17:01.354189Z",
     "shell.execute_reply": "2021-10-03T12:17:01.353349Z",
     "shell.execute_reply.started": "2021-10-03T12:16:52.478573Z"
    },
    "jupyter": {
     "outputs_hidden": true
    }
   },
   "outputs": [],
   "source": [
    "model = CatBoostRegressor(iterations=5000,\n",
    "                          # depth=5,\n",
    "                          learning_rate=0.05,\n",
    "                          random_seed=RANDOM_SEED,\n",
    "                          eval_metric='MAPE',\n",
    "                          custom_metric=['RMSE', 'MAE'],\n",
    "                          od_wait=500,\n",
    "                          # task_type='GPU',\n",
    "                          )\n",
    "model.fit(X_train, y_train,\n",
    "          eval_set=(X_test, y_test),\n",
    "          verbose_eval=100,\n",
    "          use_best_model=True,\n",
    "          plot=True\n",
    "          )"
   ]
  },
  {
   "cell_type": "code",
   "execution_count": null,
   "metadata": {
    "execution": {
     "iopub.execute_input": "2021-10-03T12:17:01.356297Z",
     "iopub.status.busy": "2021-10-03T12:17:01.355936Z",
     "iopub.status.idle": "2021-10-03T12:17:01.383551Z",
     "shell.execute_reply": "2021-10-03T12:17:01.382752Z",
     "shell.execute_reply.started": "2021-10-03T12:17:01.356261Z"
    }
   },
   "outputs": [],
   "source": [
    "test_predict_catboost = model.predict(X_test)\n",
    "print(\n",
    "    f\"TEST mape: {(mape(np.exp(y_test), np.exp(test_predict_catboost)))*100:0.2f}%\")"
   ]
  },
  {
   "cell_type": "markdown",
   "metadata": {},
   "source": [
    "#### Функция Catboost"
   ]
  },
  {
   "cell_type": "code",
   "execution_count": null,
   "metadata": {
    "execution": {
     "iopub.execute_input": "2021-10-03T12:17:01.385442Z",
     "iopub.status.busy": "2021-10-03T12:17:01.384881Z",
     "iopub.status.idle": "2021-10-03T12:17:01.393078Z",
     "shell.execute_reply": "2021-10-03T12:17:01.392083Z",
     "shell.execute_reply.started": "2021-10-03T12:17:01.385402Z"
    }
   },
   "outputs": [],
   "source": [
    "def cat_model(y_train, X_train, X_test, y_test):\n",
    "    model = CatBoostRegressor(iterations=5000,\n",
    "                              # depth=5,\n",
    "                              learning_rate=0.05,\n",
    "                              random_seed=RANDOM_SEED,\n",
    "                              eval_metric='MAPE',\n",
    "                              custom_metric=['RMSE', 'MAE'],\n",
    "                              od_wait=500,\n",
    "                              # task_type='GPU',\n",
    "                              )\n",
    "    model.fit(X_train, y_train,\n",
    "              #cat_features = categorical_features,\n",
    "              eval_set=(X_test, y_test),\n",
    "              verbose_eval=100,\n",
    "              use_best_model=True,\n",
    "              plot=True\n",
    "              )\n",
    "    return(model)"
   ]
  },
  {
   "cell_type": "markdown",
   "metadata": {},
   "source": [
    "#### K-Fold"
   ]
  },
  {
   "cell_type": "code",
   "execution_count": null,
   "metadata": {
    "collapsed": true,
    "execution": {
     "iopub.execute_input": "2021-10-03T12:17:01.395514Z",
     "iopub.status.busy": "2021-10-03T12:17:01.394656Z",
     "iopub.status.idle": "2021-10-03T12:17:59.476986Z",
     "shell.execute_reply": "2021-10-03T12:17:59.47608Z",
     "shell.execute_reply.started": "2021-10-03T12:17:01.395467Z"
    },
    "jupyter": {
     "outputs_hidden": true
    }
   },
   "outputs": [],
   "source": [
    "# куда пишем предикты по каждой модели\n",
    "submissions_cat = pd.DataFrame(\n",
    "    0, columns=[\"sub_1\"], index=sample_submission.index)\n",
    "score_ls = []\n",
    "splits = list(KFold(n_splits=5, shuffle=True,\n",
    "              random_state=RANDOM_SEED).split(X, y))\n",
    "\n",
    "for idx, (train_idx, test_idx) in tqdm(enumerate(splits), total=5,):\n",
    "    # use the indexes to extract the folds in the train and validation data\n",
    "    X_train, y_train, X_test, y_test = X.iloc[train_idx], y[train_idx], X.iloc[test_idx], y[test_idx]\n",
    "    # model for this fold\n",
    "    model = cat_model(y_train, X_train, X_test, y_test,)\n",
    "    # score model on test\n",
    "    test_predict = model.predict(X_test)\n",
    "    test_score = mape(np.exp(y_test), np.exp(test_predict))\n",
    "    score_ls.append(test_score)\n",
    "    print(f\"{idx+1} Fold Test MAPE: {mape(np.exp(y_test), np.exp(test_predict)):0.3f}\")\n",
    "    # submissions\n",
    "    submissions_cat[f'sub_{idx+1}'] = model.predict(X_sub)\n",
    "    model.save_model(f'catboost_fold_{idx+1}.model')\n",
    "\n",
    "print(f'Mean Score: {np.mean(score_ls):0.3f}')\n",
    "print(f'Std Score: {np.std(score_ls):0.4f}')\n",
    "print(f'Max Score: {np.max(score_ls):0.3f}')\n",
    "print(f'Min Score: {np.min(score_ls):0.3f}')"
   ]
  },
  {
   "cell_type": "markdown",
   "metadata": {},
   "source": [
    "#### K-Fold c 2 доп. признаками - 11,3\n",
    "\n",
    "#### K-Fold без Устаревания - 11,1\n",
    "\n",
    "#### K-Fold без обоих доп. признаков - 11,3\n",
    "\n",
    "#### K-Fold без обоих доп. признаков и ПТС - 11,2\n",
    "\n",
    "#### K-Fold без Устаревания и ПТС - 11,3\n",
    "\n",
    "#### Наилучший результат - K-Fold без Устаревания"
   ]
  },
  {
   "cell_type": "markdown",
   "metadata": {},
   "source": [
    "### Submission"
   ]
  },
  {
   "cell_type": "code",
   "execution_count": null,
   "metadata": {
    "execution": {
     "iopub.execute_input": "2021-10-03T12:17:59.479028Z",
     "iopub.status.busy": "2021-10-03T12:17:59.478477Z",
     "iopub.status.idle": "2021-10-03T12:17:59.570382Z",
     "shell.execute_reply": "2021-10-03T12:17:59.569502Z",
     "shell.execute_reply.started": "2021-10-03T12:17:59.478986Z"
    }
   },
   "outputs": [],
   "source": [
    "submissions_cat['blend'] = (submissions_cat.sum(\n",
    "    axis=1))/len(submissions_cat.columns)\n",
    "sample_submission['price'] = np.exp(submissions_cat['blend'].values)\n",
    "sample_submission.to_csv('submission_blend_v3.csv', index=False)\n",
    "sample_submission.head(10)"
   ]
  },
  {
   "cell_type": "markdown",
   "metadata": {},
   "source": [
    "#### Использование CatBoost оправдалось. На лидерборде один K-Fold Catboost (без нейросетей вообще) показал результат 11,90"
   ]
  },
  {
   "cell_type": "markdown",
   "metadata": {},
   "source": [
    "# Model 3: Tabular NN"
   ]
  },
  {
   "cell_type": "markdown",
   "metadata": {},
   "source": [
    "Построим обычную сеть:"
   ]
  },
  {
   "cell_type": "code",
   "execution_count": null,
   "metadata": {
    "execution": {
     "iopub.execute_input": "2021-10-03T14:22:30.590908Z",
     "iopub.status.busy": "2021-10-03T14:22:30.590475Z",
     "iopub.status.idle": "2021-10-03T14:22:30.620597Z",
     "shell.execute_reply": "2021-10-03T14:22:30.619823Z",
     "shell.execute_reply.started": "2021-10-03T14:22:30.590863Z"
    }
   },
   "outputs": [],
   "source": [
    "# Добавление Устаревания в нейросеть дает более хорошие результаты\n",
    "scaler = MinMaxScaler()\n",
    "df_preproc['Устаревание'] = data.productionDate-data.modelDate\n",
    "df_preproc['Устаревание'] = scaler.fit_transform(\n",
    "    df_preproc[['Устаревание']])[:, 0]"
   ]
  },
  {
   "cell_type": "code",
   "execution_count": null,
   "metadata": {
    "execution": {
     "iopub.execute_input": "2021-10-03T14:22:38.987343Z",
     "iopub.status.busy": "2021-10-03T14:22:38.986972Z",
     "iopub.status.idle": "2021-10-03T14:22:39.025049Z",
     "shell.execute_reply": "2021-10-03T14:22:39.024278Z",
     "shell.execute_reply.started": "2021-10-03T14:22:38.987311Z"
    }
   },
   "outputs": [],
   "source": [
    "df_preproc"
   ]
  },
  {
   "cell_type": "code",
   "execution_count": null,
   "metadata": {
    "execution": {
     "iopub.execute_input": "2021-10-03T14:23:08.381157Z",
     "iopub.status.busy": "2021-10-03T14:23:08.380793Z",
     "iopub.status.idle": "2021-10-03T14:23:08.444077Z",
     "shell.execute_reply": "2021-10-03T14:23:08.443368Z",
     "shell.execute_reply.started": "2021-10-03T14:23:08.381123Z"
    }
   },
   "outputs": [],
   "source": [
    "# В отличие от Catboost, нейросеть работает с логарифмированным таргетом хуже, чем с обычным\n",
    "train_data = df_preproc.query('sample == 1').drop(['sample'], axis=1)\n",
    "test_data = df_preproc.query('sample == 0').drop(['sample'], axis=1)\n",
    "\n",
    "y = train_data.price.values     # таргет\n",
    "X = train_data.drop(['price'], axis=1)\n",
    "X_sub = test_data.drop(['price'], axis=1)\n",
    "\n",
    "X_train, X_test, y_train, y_test = train_test_split(\n",
    "    X, y, test_size=0.15, shuffle=True, random_state=RANDOM_SEED)"
   ]
  },
  {
   "cell_type": "markdown",
   "metadata": {},
   "source": [
    "## Simple Dense NN"
   ]
  },
  {
   "cell_type": "code",
   "execution_count": null,
   "metadata": {
    "execution": {
     "iopub.execute_input": "2021-10-03T14:23:09.525195Z",
     "iopub.status.busy": "2021-10-03T14:23:09.52485Z",
     "iopub.status.idle": "2021-10-03T14:23:09.577543Z",
     "shell.execute_reply": "2021-10-03T14:23:09.576606Z",
     "shell.execute_reply.started": "2021-10-03T14:23:09.525161Z"
    }
   },
   "outputs": [],
   "source": [
    "model = Sequential()\n",
    "model.add(L.Dense(512, input_dim=X_train.shape[1], activation=\"relu\"))\n",
    "model.add(L.Dropout(0.5))\n",
    "model.add(L.Dense(256, activation=\"relu\"))\n",
    "model.add(L.Dropout(0.5))\n",
    "model.add(L.Dense(1, activation=\"linear\"))"
   ]
  },
  {
   "cell_type": "code",
   "execution_count": null,
   "metadata": {
    "execution": {
     "iopub.execute_input": "2021-10-03T12:18:00.517494Z",
     "iopub.status.busy": "2021-10-03T12:18:00.517139Z",
     "iopub.status.idle": "2021-10-03T12:18:00.52775Z",
     "shell.execute_reply": "2021-10-03T12:18:00.525811Z",
     "shell.execute_reply.started": "2021-10-03T12:18:00.517455Z"
    }
   },
   "outputs": [],
   "source": [
    "model.summary()"
   ]
  },
  {
   "cell_type": "code",
   "execution_count": null,
   "metadata": {
    "execution": {
     "iopub.execute_input": "2021-10-03T14:23:11.196969Z",
     "iopub.status.busy": "2021-10-03T14:23:11.196643Z",
     "iopub.status.idle": "2021-10-03T14:23:11.212118Z",
     "shell.execute_reply": "2021-10-03T14:23:11.211351Z",
     "shell.execute_reply.started": "2021-10-03T14:23:11.196939Z"
    }
   },
   "outputs": [],
   "source": [
    "# Compile model\n",
    "optimizer = tf.keras.optimizers.Adam(0.01)\n",
    "model.compile(loss='MAPE', optimizer=optimizer, metrics=['MAPE'])"
   ]
  },
  {
   "cell_type": "code",
   "execution_count": null,
   "metadata": {
    "execution": {
     "iopub.execute_input": "2021-10-03T14:23:12.784364Z",
     "iopub.status.busy": "2021-10-03T14:23:12.784003Z",
     "iopub.status.idle": "2021-10-03T14:23:12.790433Z",
     "shell.execute_reply": "2021-10-03T14:23:12.789372Z",
     "shell.execute_reply.started": "2021-10-03T14:23:12.784333Z"
    }
   },
   "outputs": [],
   "source": [
    "checkpoint = ModelCheckpoint(\n",
    "    '../working/best_model.hdf5', monitor=['val_MAPE'], verbose=0, mode='min')\n",
    "earlystop = EarlyStopping(\n",
    "    monitor='val_MAPE', patience=50, restore_best_weights=True,)\n",
    "callbacks_list = [checkpoint, earlystop]"
   ]
  },
  {
   "cell_type": "markdown",
   "metadata": {},
   "source": [
    "### Fit"
   ]
  },
  {
   "cell_type": "code",
   "execution_count": null,
   "metadata": {
    "execution": {
     "iopub.execute_input": "2021-10-03T14:23:14.333379Z",
     "iopub.status.busy": "2021-10-03T14:23:14.333023Z",
     "iopub.status.idle": "2021-10-03T14:23:53.26504Z",
     "shell.execute_reply": "2021-10-03T14:23:53.264026Z",
     "shell.execute_reply.started": "2021-10-03T14:23:14.333347Z"
    }
   },
   "outputs": [],
   "source": [
    "history = model.fit(X_train, y_train,\n",
    "                    batch_size=512,\n",
    "                    epochs=500,  # фактически мы обучаем пока EarlyStopping не остановит обучение\n",
    "                    validation_data=(X_test, y_test),\n",
    "                    callbacks=callbacks_list,\n",
    "                    verbose=0,\n",
    "                    )"
   ]
  },
  {
   "cell_type": "code",
   "execution_count": null,
   "metadata": {
    "execution": {
     "iopub.execute_input": "2021-10-03T14:23:53.267363Z",
     "iopub.status.busy": "2021-10-03T14:23:53.267Z",
     "iopub.status.idle": "2021-10-03T14:23:53.484947Z",
     "shell.execute_reply": "2021-10-03T14:23:53.484086Z",
     "shell.execute_reply.started": "2021-10-03T14:23:53.267324Z"
    }
   },
   "outputs": [],
   "source": [
    "plt.title('Loss')\n",
    "plt.plot(history.history['MAPE'], label='train')\n",
    "plt.plot(history.history['val_MAPE'], label='test')\n",
    "plt.show()"
   ]
  },
  {
   "cell_type": "code",
   "execution_count": null,
   "metadata": {
    "execution": {
     "iopub.execute_input": "2021-10-03T14:23:53.486817Z",
     "iopub.status.busy": "2021-10-03T14:23:53.486312Z",
     "iopub.status.idle": "2021-10-03T14:23:53.522404Z",
     "shell.execute_reply": "2021-10-03T14:23:53.521733Z",
     "shell.execute_reply.started": "2021-10-03T14:23:53.486773Z"
    }
   },
   "outputs": [],
   "source": [
    "model.load_weights('../working/best_model.hdf5')\n",
    "model.save('../working/nn_1.hdf5')"
   ]
  },
  {
   "cell_type": "code",
   "execution_count": null,
   "metadata": {
    "execution": {
     "iopub.execute_input": "2021-10-03T14:23:53.52489Z",
     "iopub.status.busy": "2021-10-03T14:23:53.524537Z",
     "iopub.status.idle": "2021-10-03T14:23:53.61954Z",
     "shell.execute_reply": "2021-10-03T14:23:53.618303Z",
     "shell.execute_reply.started": "2021-10-03T14:23:53.524854Z"
    }
   },
   "outputs": [],
   "source": [
    "test_predict_nn1 = model.predict(X_test)\n",
    "print(f\"TEST mape: {(mape(y_test, test_predict_nn1[:,0]))*100:0.2f}%\")"
   ]
  },
  {
   "cell_type": "markdown",
   "metadata": {},
   "source": [
    "#### mape 11.73% без Устаревания\n",
    "\n",
    "#### mape 11.63% с Устареванием"
   ]
  },
  {
   "cell_type": "code",
   "execution_count": null,
   "metadata": {
    "execution": {
     "iopub.execute_input": "2021-10-03T12:18:40.555338Z",
     "iopub.status.busy": "2021-10-03T12:18:40.554807Z",
     "iopub.status.idle": "2021-10-03T12:18:40.634573Z",
     "shell.execute_reply": "2021-10-03T12:18:40.633829Z",
     "shell.execute_reply.started": "2021-10-03T12:18:40.555296Z"
    }
   },
   "outputs": [],
   "source": [
    "sub_predict_nn1 = model.predict(X_sub)"
   ]
  },
  {
   "cell_type": "code",
   "execution_count": null,
   "metadata": {
    "execution": {
     "iopub.execute_input": "2021-10-03T12:18:40.638019Z",
     "iopub.status.busy": "2021-10-03T12:18:40.637758Z",
     "iopub.status.idle": "2021-10-03T12:18:40.657422Z",
     "shell.execute_reply": "2021-10-03T12:18:40.656595Z",
     "shell.execute_reply.started": "2021-10-03T12:18:40.637991Z"
    }
   },
   "outputs": [],
   "source": [
    "sample_submission['price'] = sub_predict_nn1[:, 0]\n",
    "sample_submission.to_csv('nn1_2_submission.csv', index=False)\n",
    "sample_submission.head(10)"
   ]
  },
  {
   "cell_type": "code",
   "execution_count": null,
   "metadata": {
    "execution": {
     "iopub.execute_input": "2021-10-03T12:18:40.659209Z",
     "iopub.status.busy": "2021-10-03T12:18:40.658857Z",
     "iopub.status.idle": "2021-10-03T12:18:40.681517Z",
     "shell.execute_reply": "2021-10-03T12:18:40.680849Z",
     "shell.execute_reply.started": "2021-10-03T12:18:40.659172Z"
    }
   },
   "outputs": [],
   "source": [
    "blend_sub_predict_1 = (\n",
    "    np.exp(submissions_cat['blend'].values) + sub_predict_nn1[:, 0]) / 2\n",
    "sample_submission['price'] = blend_sub_predict_1\n",
    "sample_submission.to_csv('blend_submission_1.csv', index=False)\n",
    "sample_submission.head(10)"
   ]
  },
  {
   "cell_type": "markdown",
   "metadata": {},
   "source": [
    "#### Blend предсказаний K-Fold Catboost и NN показывает mape 11,30 на лидерборде"
   ]
  },
  {
   "cell_type": "markdown",
   "metadata": {},
   "source": [
    "# Model 4: NLP + Multiple Inputs"
   ]
  },
  {
   "cell_type": "code",
   "execution_count": null,
   "metadata": {
    "execution": {
     "iopub.execute_input": "2021-10-03T12:18:40.68326Z",
     "iopub.status.busy": "2021-10-03T12:18:40.682852Z",
     "iopub.status.idle": "2021-10-03T12:18:40.691725Z",
     "shell.execute_reply": "2021-10-03T12:18:40.691Z",
     "shell.execute_reply.started": "2021-10-03T12:18:40.683221Z"
    }
   },
   "outputs": [],
   "source": [
    "stop_words = stopwords.words(\"russian\")"
   ]
  },
  {
   "cell_type": "code",
   "execution_count": null,
   "metadata": {
    "execution": {
     "iopub.execute_input": "2021-10-03T12:18:40.702472Z",
     "iopub.status.busy": "2021-10-03T12:18:40.701823Z",
     "iopub.status.idle": "2021-10-03T12:18:40.712865Z",
     "shell.execute_reply": "2021-10-03T12:18:40.711862Z",
     "shell.execute_reply.started": "2021-10-03T12:18:40.702422Z"
    }
   },
   "outputs": [],
   "source": [
    "data.description"
   ]
  },
  {
   "cell_type": "code",
   "execution_count": null,
   "metadata": {
    "execution": {
     "iopub.execute_input": "2021-10-03T12:18:40.715424Z",
     "iopub.status.busy": "2021-10-03T12:18:40.714965Z",
     "iopub.status.idle": "2021-10-03T12:18:40.720839Z",
     "shell.execute_reply": "2021-10-03T12:18:40.719864Z",
     "shell.execute_reply.started": "2021-10-03T12:18:40.715388Z"
    }
   },
   "outputs": [],
   "source": [
    "# TOKENIZER\n",
    "# The maximum number of words to be used. (most frequent)\n",
    "MAX_WORDS = 100000\n",
    "# Max number of words in each complaint.\n",
    "MAX_SEQUENCE_LENGTH = 256"
   ]
  },
  {
   "cell_type": "code",
   "execution_count": null,
   "metadata": {
    "execution": {
     "iopub.execute_input": "2021-10-03T12:18:40.723104Z",
     "iopub.status.busy": "2021-10-03T12:18:40.722648Z",
     "iopub.status.idle": "2021-10-03T12:18:40.731714Z",
     "shell.execute_reply": "2021-10-03T12:18:40.730776Z",
     "shell.execute_reply.started": "2021-10-03T12:18:40.723065Z"
    }
   },
   "outputs": [],
   "source": [
    "REPLACE_BY_SPACE = re.compile('[/(){}\\[\\]\\|@,;]!.')\n",
    "BAD_SYMBOLS = re.compile('[0-9+_]')\n",
    "MIN_STRING_LEN = 3\n",
    "\n",
    "\n",
    "def clean_text(description):\n",
    "\n",
    "    description = description.lower()\n",
    "    description = REPLACE_BY_SPACE.sub(' ', description)\n",
    "    description = BAD_SYMBOLS.sub('', description)\n",
    "\n",
    "    description = ' '.join(word for word in description.split() if (\n",
    "        (word not in stop_words) & (len(word) >= MIN_STRING_LEN)))\n",
    "\n",
    "    return description"
   ]
  },
  {
   "cell_type": "code",
   "execution_count": null,
   "metadata": {
    "execution": {
     "iopub.execute_input": "2021-10-03T12:18:40.733691Z",
     "iopub.status.busy": "2021-10-03T12:18:40.733289Z",
     "iopub.status.idle": "2021-10-03T12:18:43.088533Z",
     "shell.execute_reply": "2021-10-03T12:18:43.087763Z",
     "shell.execute_reply.started": "2021-10-03T12:18:40.733653Z"
    }
   },
   "outputs": [],
   "source": [
    "data['clean_description'] = data.description.apply(clean_text)"
   ]
  },
  {
   "cell_type": "code",
   "execution_count": null,
   "metadata": {
    "execution": {
     "iopub.execute_input": "2021-10-03T12:18:43.09022Z",
     "iopub.status.busy": "2021-10-03T12:18:43.089857Z",
     "iopub.status.idle": "2021-10-03T12:18:43.097494Z",
     "shell.execute_reply": "2021-10-03T12:18:43.096542Z",
     "shell.execute_reply.started": "2021-10-03T12:18:43.090185Z"
    }
   },
   "outputs": [],
   "source": [
    "# split данных\n",
    "text_train = data.clean_description.iloc[X_train.index]\n",
    "text_test = data.clean_description.iloc[X_test.index]\n",
    "text_sub = data.clean_description.iloc[X_sub.index]"
   ]
  },
  {
   "cell_type": "markdown",
   "metadata": {},
   "source": [
    "### Tokenizer"
   ]
  },
  {
   "cell_type": "code",
   "execution_count": null,
   "metadata": {
    "execution": {
     "iopub.execute_input": "2021-10-03T12:18:43.099234Z",
     "iopub.status.busy": "2021-10-03T12:18:43.098701Z",
     "iopub.status.idle": "2021-10-03T12:18:44.280967Z",
     "shell.execute_reply": "2021-10-03T12:18:44.280076Z",
     "shell.execute_reply.started": "2021-10-03T12:18:43.099194Z"
    }
   },
   "outputs": [],
   "source": [
    "% % time\n",
    "tokenize = Tokenizer(num_words=MAX_WORDS)\n",
    "tokenize.fit_on_texts(data.clean_description)"
   ]
  },
  {
   "cell_type": "code",
   "execution_count": null,
   "metadata": {
    "_kg_hide-output": true,
    "execution": {
     "iopub.execute_input": "2021-10-03T12:18:44.287608Z",
     "iopub.status.busy": "2021-10-03T12:18:44.287346Z",
     "iopub.status.idle": "2021-10-03T12:18:44.291547Z",
     "shell.execute_reply": "2021-10-03T12:18:44.290563Z",
     "shell.execute_reply.started": "2021-10-03T12:18:44.287579Z"
    }
   },
   "outputs": [],
   "source": [
    "# tokenize.word_index"
   ]
  },
  {
   "cell_type": "code",
   "execution_count": null,
   "metadata": {
    "execution": {
     "iopub.execute_input": "2021-10-03T12:18:44.294093Z",
     "iopub.status.busy": "2021-10-03T12:18:44.293593Z",
     "iopub.status.idle": "2021-10-03T12:18:45.501167Z",
     "shell.execute_reply": "2021-10-03T12:18:45.500194Z",
     "shell.execute_reply.started": "2021-10-03T12:18:44.294006Z"
    }
   },
   "outputs": [],
   "source": [
    "% % time\n",
    "text_train_sequences = sequence.pad_sequences(\n",
    "    tokenize.texts_to_sequences(text_train), maxlen=MAX_SEQUENCE_LENGTH)\n",
    "text_test_sequences = sequence.pad_sequences(\n",
    "    tokenize.texts_to_sequences(text_test), maxlen=MAX_SEQUENCE_LENGTH)\n",
    "text_sub_sequences = sequence.pad_sequences(\n",
    "    tokenize.texts_to_sequences(text_sub), maxlen=MAX_SEQUENCE_LENGTH)\n",
    "\n",
    "print(text_train_sequences.shape,\n",
    "      text_test_sequences.shape, text_sub_sequences.shape, )"
   ]
  },
  {
   "cell_type": "code",
   "execution_count": null,
   "metadata": {
    "execution": {
     "iopub.execute_input": "2021-10-03T12:18:45.503085Z",
     "iopub.status.busy": "2021-10-03T12:18:45.502685Z",
     "iopub.status.idle": "2021-10-03T12:18:45.512691Z",
     "shell.execute_reply": "2021-10-03T12:18:45.511761Z",
     "shell.execute_reply.started": "2021-10-03T12:18:45.503026Z"
    }
   },
   "outputs": [],
   "source": [
    "# вот так теперь выглядит наш текст\n",
    "print(text_train.iloc[6])\n",
    "print(text_train_sequences[6])"
   ]
  },
  {
   "cell_type": "markdown",
   "metadata": {},
   "source": [
    "### RNN NLP"
   ]
  },
  {
   "cell_type": "code",
   "execution_count": null,
   "metadata": {
    "execution": {
     "iopub.execute_input": "2021-10-03T12:18:45.51455Z",
     "iopub.status.busy": "2021-10-03T12:18:45.514135Z",
     "iopub.status.idle": "2021-10-03T12:18:46.055901Z",
     "shell.execute_reply": "2021-10-03T12:18:46.055097Z",
     "shell.execute_reply.started": "2021-10-03T12:18:45.514509Z"
    }
   },
   "outputs": [],
   "source": [
    "model_nlp = Sequential()\n",
    "model_nlp.add(L.Input(shape=MAX_SEQUENCE_LENGTH, name=\"seq_description\"))\n",
    "model_nlp.add(L.Embedding(len(tokenize.word_index)+1, MAX_SEQUENCE_LENGTH,))\n",
    "model_nlp.add(L.LSTM(256, return_sequences=True))\n",
    "model_nlp.add(L.Dropout(0.5))\n",
    "model_nlp.add(L.LSTM(128,))\n",
    "model_nlp.add(L.Dropout(0.25))\n",
    "model_nlp.add(L.Dense(64, activation=\"relu\"))\n",
    "model_nlp.add(L.Dropout(0.25))"
   ]
  },
  {
   "cell_type": "markdown",
   "metadata": {},
   "source": [
    "### MLP"
   ]
  },
  {
   "cell_type": "code",
   "execution_count": null,
   "metadata": {
    "execution": {
     "iopub.execute_input": "2021-10-03T12:18:46.058556Z",
     "iopub.status.busy": "2021-10-03T12:18:46.057923Z",
     "iopub.status.idle": "2021-10-03T12:18:46.100409Z",
     "shell.execute_reply": "2021-10-03T12:18:46.099704Z",
     "shell.execute_reply.started": "2021-10-03T12:18:46.058513Z"
    }
   },
   "outputs": [],
   "source": [
    "model_mlp = Sequential()\n",
    "model_mlp.add(L.Dense(512, input_dim=X_train.shape[1], activation=\"relu\"))\n",
    "model_mlp.add(L.Dropout(0.5))\n",
    "model_mlp.add(L.Dense(256, activation=\"relu\"))\n",
    "model_mlp.add(L.Dropout(0.5))"
   ]
  },
  {
   "cell_type": "markdown",
   "metadata": {},
   "source": [
    "### Multiple Inputs NN"
   ]
  },
  {
   "cell_type": "code",
   "execution_count": null,
   "metadata": {
    "execution": {
     "iopub.execute_input": "2021-10-03T12:18:46.102259Z",
     "iopub.status.busy": "2021-10-03T12:18:46.101877Z",
     "iopub.status.idle": "2021-10-03T12:18:46.131626Z",
     "shell.execute_reply": "2021-10-03T12:18:46.130686Z",
     "shell.execute_reply.started": "2021-10-03T12:18:46.102212Z"
    }
   },
   "outputs": [],
   "source": [
    "combinedInput = L.concatenate([model_nlp.output, model_mlp.output])\n",
    "# being our regression head\n",
    "head = L.Dense(64, activation=\"relu\")(combinedInput)\n",
    "head = L.Dense(1, activation=\"linear\")(head)\n",
    "\n",
    "model = Model(inputs=[model_nlp.input, model_mlp.input], outputs=head)"
   ]
  },
  {
   "cell_type": "code",
   "execution_count": null,
   "metadata": {
    "_kg_hide-output": true,
    "execution": {
     "iopub.execute_input": "2021-10-03T12:18:46.13322Z",
     "iopub.status.busy": "2021-10-03T12:18:46.132855Z",
     "iopub.status.idle": "2021-10-03T12:18:46.143888Z",
     "shell.execute_reply": "2021-10-03T12:18:46.142658Z",
     "shell.execute_reply.started": "2021-10-03T12:18:46.133191Z"
    }
   },
   "outputs": [],
   "source": [
    "model.summary()"
   ]
  },
  {
   "cell_type": "markdown",
   "metadata": {},
   "source": [
    "### Fit"
   ]
  },
  {
   "cell_type": "code",
   "execution_count": null,
   "metadata": {
    "execution": {
     "iopub.execute_input": "2021-10-03T12:18:46.146016Z",
     "iopub.status.busy": "2021-10-03T12:18:46.145568Z",
     "iopub.status.idle": "2021-10-03T12:18:46.165147Z",
     "shell.execute_reply": "2021-10-03T12:18:46.164194Z",
     "shell.execute_reply.started": "2021-10-03T12:18:46.145975Z"
    }
   },
   "outputs": [],
   "source": [
    "optimizer = tf.keras.optimizers.Adam(0.01)\n",
    "model.compile(loss='MAPE', optimizer=optimizer, metrics=['MAPE'])"
   ]
  },
  {
   "cell_type": "code",
   "execution_count": null,
   "metadata": {
    "execution": {
     "iopub.execute_input": "2021-10-03T12:18:46.166597Z",
     "iopub.status.busy": "2021-10-03T12:18:46.166267Z",
     "iopub.status.idle": "2021-10-03T12:18:46.171991Z",
     "shell.execute_reply": "2021-10-03T12:18:46.170674Z",
     "shell.execute_reply.started": "2021-10-03T12:18:46.166561Z"
    }
   },
   "outputs": [],
   "source": [
    "checkpoint = ModelCheckpoint(\n",
    "    '../working/best_model.hdf5', monitor=['val_MAPE'], verbose=0, mode='min')\n",
    "earlystop = EarlyStopping(\n",
    "    monitor='val_MAPE', patience=10, restore_best_weights=True,)\n",
    "callbacks_list = [checkpoint, earlystop]"
   ]
  },
  {
   "cell_type": "code",
   "execution_count": null,
   "metadata": {
    "_kg_hide-output": true,
    "collapsed": true,
    "execution": {
     "iopub.execute_input": "2021-10-03T12:18:46.174484Z",
     "iopub.status.busy": "2021-10-03T12:18:46.173844Z",
     "iopub.status.idle": "2021-10-03T12:26:08.906099Z",
     "shell.execute_reply": "2021-10-03T12:26:08.905328Z",
     "shell.execute_reply.started": "2021-10-03T12:18:46.174445Z"
    },
    "jupyter": {
     "outputs_hidden": true
    }
   },
   "outputs": [],
   "source": [
    "history = model.fit([text_train_sequences, X_train], y_train,\n",
    "                    batch_size=512,\n",
    "                    epochs=500,  # фактически мы обучаем пока EarlyStopping не остановит обучение\n",
    "                    validation_data=([text_test_sequences, X_test], y_test),\n",
    "                    callbacks=callbacks_list\n",
    "                    )"
   ]
  },
  {
   "cell_type": "code",
   "execution_count": null,
   "metadata": {
    "execution": {
     "iopub.execute_input": "2021-10-03T12:26:08.909491Z",
     "iopub.status.busy": "2021-10-03T12:26:08.909223Z",
     "iopub.status.idle": "2021-10-03T12:26:09.12321Z",
     "shell.execute_reply": "2021-10-03T12:26:09.122521Z",
     "shell.execute_reply.started": "2021-10-03T12:26:08.909461Z"
    }
   },
   "outputs": [],
   "source": [
    "plt.title('Loss')\n",
    "plt.plot(history.history['MAPE'], label='train')\n",
    "plt.plot(history.history['val_MAPE'], label='test')\n",
    "plt.show()"
   ]
  },
  {
   "cell_type": "code",
   "execution_count": null,
   "metadata": {
    "execution": {
     "iopub.execute_input": "2021-10-03T12:26:09.126402Z",
     "iopub.status.busy": "2021-10-03T12:26:09.126159Z",
     "iopub.status.idle": "2021-10-03T12:26:09.559197Z",
     "shell.execute_reply": "2021-10-03T12:26:09.558314Z",
     "shell.execute_reply.started": "2021-10-03T12:26:09.126376Z"
    }
   },
   "outputs": [],
   "source": [
    "model.load_weights('../working/best_model.hdf5')\n",
    "model.save('../working/nn_mlp_nlp.hdf5')"
   ]
  },
  {
   "cell_type": "code",
   "execution_count": null,
   "metadata": {
    "execution": {
     "iopub.execute_input": "2021-10-03T12:26:09.560797Z",
     "iopub.status.busy": "2021-10-03T12:26:09.560438Z",
     "iopub.status.idle": "2021-10-03T12:26:10.608495Z",
     "shell.execute_reply": "2021-10-03T12:26:10.60756Z",
     "shell.execute_reply.started": "2021-10-03T12:26:09.560758Z"
    }
   },
   "outputs": [],
   "source": [
    "test_predict_nn2 = model.predict([text_test_sequences, X_test])\n",
    "print(f\"TEST mape: {(mape(y_test, test_predict_nn2[:,0]))*100:0.2f}%\")"
   ]
  },
  {
   "cell_type": "code",
   "execution_count": null,
   "metadata": {
    "execution": {
     "iopub.execute_input": "2021-10-03T12:26:10.610642Z",
     "iopub.status.busy": "2021-10-03T12:26:10.610017Z",
     "iopub.status.idle": "2021-10-03T12:26:11.396026Z",
     "shell.execute_reply": "2021-10-03T12:26:11.395122Z",
     "shell.execute_reply.started": "2021-10-03T12:26:10.610599Z"
    }
   },
   "outputs": [],
   "source": [
    "sub_predict_nn2 = model.predict([text_sub_sequences, X_sub])\n",
    "sample_submission['price'] = sub_predict_nn2[:, 0]\n",
    "sample_submission.to_csv('nn2_2_submission.csv', index=False)"
   ]
  },
  {
   "cell_type": "code",
   "execution_count": null,
   "metadata": {
    "execution": {
     "iopub.execute_input": "2021-10-03T12:26:11.397828Z",
     "iopub.status.busy": "2021-10-03T12:26:11.397476Z",
     "iopub.status.idle": "2021-10-03T12:26:11.418881Z",
     "shell.execute_reply": "2021-10-03T12:26:11.418068Z",
     "shell.execute_reply.started": "2021-10-03T12:26:11.39779Z"
    }
   },
   "outputs": [],
   "source": [
    "blend_sub_predict_2 = (\n",
    "    np.exp(submissions_cat['blend'].values) + sub_predict_nn2[:, 0]) / 2\n",
    "sample_submission['price'] = blend_sub_predict_2\n",
    "sample_submission.to_csv('blend_submission_2.csv', index=False)\n",
    "sample_submission.head(10)"
   ]
  },
  {
   "cell_type": "markdown",
   "metadata": {},
   "source": [
    "#### Blend предсказаний K-Fold Catboost и Multiple inputs NN показывает mape 11,41 на лидерборде, что немного хуже, чем предыдущий вариант. Возможно, проведена неправильная/недостаточная обработка текста"
   ]
  },
  {
   "cell_type": "markdown",
   "metadata": {},
   "source": [
    "# Model 5: Добавляем картинки"
   ]
  },
  {
   "cell_type": "markdown",
   "metadata": {},
   "source": [
    "### Data"
   ]
  },
  {
   "cell_type": "code",
   "execution_count": null,
   "metadata": {
    "execution": {
     "iopub.execute_input": "2021-10-03T12:26:11.420852Z",
     "iopub.status.busy": "2021-10-03T12:26:11.420505Z",
     "iopub.status.idle": "2021-10-03T12:26:12.915274Z",
     "shell.execute_reply": "2021-10-03T12:26:12.914116Z",
     "shell.execute_reply.started": "2021-10-03T12:26:11.420815Z"
    }
   },
   "outputs": [],
   "source": [
    "# убедимся, что цены и фото подгрузились верно\n",
    "plt.figure(figsize=(12, 8))\n",
    "\n",
    "random_image = train.sample(n=9)\n",
    "random_image_paths = random_image['sell_id'].values\n",
    "random_image_cat = random_image['price'].values\n",
    "\n",
    "for index, path in enumerate(random_image_paths):\n",
    "    im = PIL.Image.open(DATA_DIR+'img/img/' + str(path) + '.jpg')\n",
    "    plt.subplot(3, 3, index + 1)\n",
    "    plt.imshow(im)\n",
    "    plt.title('price: ' + str(random_image_cat[index]))\n",
    "    plt.axis('off')\n",
    "plt.show()"
   ]
  },
  {
   "cell_type": "code",
   "execution_count": null,
   "metadata": {
    "execution": {
     "iopub.execute_input": "2021-10-03T12:26:12.917741Z",
     "iopub.status.busy": "2021-10-03T12:26:12.91696Z",
     "iopub.status.idle": "2021-10-03T12:26:44.074587Z",
     "shell.execute_reply": "2021-10-03T12:26:44.073509Z",
     "shell.execute_reply.started": "2021-10-03T12:26:12.917686Z"
    }
   },
   "outputs": [],
   "source": [
    "size = (320, 240)\n",
    "\n",
    "\n",
    "def get_image_array(index):\n",
    "    images_train = []\n",
    "    for index, sell_id in enumerate(data['sell_id'].iloc[index].values):\n",
    "        image = cv2.imread(DATA_DIR + 'img/img/' + str(sell_id) + '.jpg')\n",
    "        assert(image is not None)\n",
    "        image = cv2.resize(image, size)\n",
    "        images_train.append(image)\n",
    "    images_train = np.array(images_train)\n",
    "    print('images shape', images_train.shape, 'dtype', images_train.dtype)\n",
    "    return(images_train)\n",
    "\n",
    "\n",
    "images_train = get_image_array(X_train.index)\n",
    "images_test = get_image_array(X_test.index)\n",
    "images_sub = get_image_array(X_sub.index)"
   ]
  },
  {
   "cell_type": "markdown",
   "metadata": {},
   "source": [
    "### albumentations"
   ]
  },
  {
   "cell_type": "code",
   "execution_count": null,
   "metadata": {
    "execution": {
     "iopub.execute_input": "2021-10-03T14:25:01.138637Z",
     "iopub.status.busy": "2021-10-03T14:25:01.138298Z",
     "iopub.status.idle": "2021-10-03T14:25:01.150845Z",
     "shell.execute_reply": "2021-10-03T14:25:01.149752Z",
     "shell.execute_reply.started": "2021-10-03T14:25:01.138606Z"
    }
   },
   "outputs": [],
   "source": [
    "transform = A.Compose([\n",
    "\n",
    "    A.HueSaturationValue(always_apply=False, p=0.2, hue_shift_limit=(-20, 20),\n",
    "                         sat_shift_limit=(-30, 30), val_shift_limit=(-20, 20)),\n",
    "    A.Blur(always_apply=False, p=0.2, blur_limit=(3, 9)),\n",
    "    A.CLAHE(always_apply=False, p=0.2, clip_limit=(\n",
    "        1, 10), tile_grid_size=(8, 8)),\n",
    "    A.ChannelShuffle(always_apply=False, p=0.2),\n",
    "    A.Equalize(always_apply=False, p=0.2, mode='cv', by_channels=True),\n",
    "    A.GaussNoise(always_apply=False, p=0.2, var_limit=(10.0, 80.0)),\n",
    "    A.ISONoise(always_apply=False, p=0.2, intensity=(\n",
    "        0.1, 0.5), color_shift=(0.01, 0.05)),\n",
    "    A.ImageCompression(always_apply=False, p=0.2, quality_lower=60,\n",
    "                       quality_upper=100, compression_type=0),\n",
    "    A.JpegCompression(always_apply=False, p=0.2,\n",
    "                      quality_lower=80, quality_upper=100),\n",
    "    A.RGBShift(always_apply=False, p=0.2, r_shift_limit=(-20, 20),\n",
    "               g_shift_limit=(-20, 20), b_shift_limit=(-20, 20))\n",
    "\n",
    "])"
   ]
  },
  {
   "cell_type": "code",
   "execution_count": null,
   "metadata": {
    "execution": {
     "iopub.execute_input": "2021-10-03T14:25:02.244405Z",
     "iopub.status.busy": "2021-10-03T14:25:02.24407Z",
     "iopub.status.idle": "2021-10-03T14:25:03.596283Z",
     "shell.execute_reply": "2021-10-03T14:25:03.595262Z",
     "shell.execute_reply.started": "2021-10-03T14:25:02.244374Z"
    }
   },
   "outputs": [],
   "source": [
    "# проверяем выбранные модификации изображений, оцениваем их длительность\n",
    "# длительность приемлемая, изображения узнаваемые\n",
    "plt.figure(figsize=(12, 8))\n",
    "for i in range(9):\n",
    "    %time\n",
    "    img = transform(image=images_train[0])['image']\n",
    "    plt.subplot(3, 3, i + 1)\n",
    "    plt.imshow(img)\n",
    "    plt.axis('off')\n",
    "plt.show()"
   ]
  },
  {
   "cell_type": "code",
   "execution_count": null,
   "metadata": {
    "execution": {
     "iopub.execute_input": "2021-10-03T14:25:10.928333Z",
     "iopub.status.busy": "2021-10-03T14:25:10.927951Z",
     "iopub.status.idle": "2021-10-03T14:25:10.936729Z",
     "shell.execute_reply": "2021-10-03T14:25:10.935136Z",
     "shell.execute_reply.started": "2021-10-03T14:25:10.9283Z"
    }
   },
   "outputs": [],
   "source": [
    "def make_augmentations(images):\n",
    "    print('применение аугментаций', end='')\n",
    "    augmented_images = np.empty(images.shape)\n",
    "    for i in range(images.shape[0]):\n",
    "        if i % 200 == 0:\n",
    "            print('.', end='')\n",
    "\n",
    "    augment_dict = transform(image=images[i])\n",
    "    augmented_image = augment_dict['image']\n",
    "    augmented_images[i] = augmented_image\n",
    "    print('')\n",
    "\n",
    "    return augmented_images"
   ]
  },
  {
   "cell_type": "code",
   "execution_count": null,
   "metadata": {
    "execution": {
     "iopub.execute_input": "2021-10-03T14:25:18.484995Z",
     "iopub.status.busy": "2021-10-03T14:25:18.484662Z",
     "iopub.status.idle": "2021-10-03T14:25:19.674005Z",
     "shell.execute_reply": "2021-10-03T14:25:19.673228Z",
     "shell.execute_reply.started": "2021-10-03T14:25:18.484958Z"
    }
   },
   "outputs": [],
   "source": [
    "# NLP part\n",
    "tokenize = Tokenizer(num_words=MAX_WORDS)\n",
    "tokenize.fit_on_texts(data.clean_description)"
   ]
  },
  {
   "cell_type": "code",
   "execution_count": null,
   "metadata": {
    "execution": {
     "iopub.execute_input": "2021-10-03T14:25:21.315972Z",
     "iopub.status.busy": "2021-10-03T14:25:21.315573Z",
     "iopub.status.idle": "2021-10-03T14:25:24.355761Z",
     "shell.execute_reply": "2021-10-03T14:25:24.3546Z",
     "shell.execute_reply.started": "2021-10-03T14:25:21.315937Z"
    }
   },
   "outputs": [],
   "source": [
    "def process_image(image):\n",
    "    return transform(image=image.numpy())['image']\n",
    "\n",
    "\n",
    "def tokenize_(descriptions):\n",
    "    return sequence.pad_sequences(tokenize.texts_to_sequences(descriptions), maxlen=MAX_SEQUENCE_LENGTH)\n",
    "\n",
    "\n",
    "def tokenize_text(text):\n",
    "    return tokenize_([text.numpy().decode('utf-8')])[0]\n",
    "\n",
    "\n",
    "def tf_process_train_dataset_element(image, table_data, text, price):\n",
    "    im_shape = image.shape\n",
    "    [image, ] = tf.py_function(process_image, [image], [tf.uint8])\n",
    "    image.set_shape(im_shape)\n",
    "    [text, ] = tf.py_function(tokenize_text, [text], [tf.int32])\n",
    "    return (image, table_data, text), price\n",
    "\n",
    "\n",
    "def tf_process_val_dataset_element(image, table_data, text, price):\n",
    "    [text, ] = tf.py_function(tokenize_text, [text], [tf.int32])\n",
    "    return (image, table_data, text), price\n",
    "\n",
    "\n",
    "train_dataset = tf.data.Dataset.from_tensor_slices((\n",
    "    images_train, X_train, data.clean_description.iloc[X_train.index], y_train\n",
    ")).map(tf_process_train_dataset_element)\n",
    "\n",
    "test_dataset = tf.data.Dataset.from_tensor_slices((\n",
    "    images_test, X_test, data.clean_description.iloc[X_test.index], y_test\n",
    ")).map(tf_process_val_dataset_element)\n",
    "\n",
    "y_sub = np.zeros(len(X_sub))\n",
    "sub_dataset = tf.data.Dataset.from_tensor_slices((\n",
    "    images_sub, X_sub, data.clean_description.iloc[X_sub.index], y_sub\n",
    ")).map(tf_process_val_dataset_element)\n",
    "\n",
    "# проверяем, что нет ошибок (не будет выброшено исключение):\n",
    "train_dataset.__iter__().__next__()\n",
    "test_dataset.__iter__().__next__()\n",
    "sub_dataset.__iter__().__next__()"
   ]
  },
  {
   "cell_type": "markdown",
   "metadata": {},
   "source": [
    "### Строим сверточную сеть для анализа изображений без \"головы\""
   ]
  },
  {
   "cell_type": "code",
   "execution_count": null,
   "metadata": {
    "execution": {
     "iopub.execute_input": "2021-10-03T14:25:26.587126Z",
     "iopub.status.busy": "2021-10-03T14:25:26.586794Z",
     "iopub.status.idle": "2021-10-03T14:25:31.457903Z",
     "shell.execute_reply": "2021-10-03T14:25:31.456951Z",
     "shell.execute_reply.started": "2021-10-03T14:25:26.587092Z"
    }
   },
   "outputs": [],
   "source": [
    "# модель ENB0 показывает результаты не намного хуже ENB3, но быстрее учится\n",
    "efficientnet_model = tf.keras.applications.efficientnet.EfficientNetB0(\n",
    "    weights='imagenet', include_top=False, input_shape=(size[1], size[0], 3))\n",
    "efficientnet_output = L.GlobalAveragePooling2D()(efficientnet_model.output)"
   ]
  },
  {
   "cell_type": "code",
   "execution_count": null,
   "metadata": {
    "execution": {
     "iopub.execute_input": "2021-10-03T14:25:31.460017Z",
     "iopub.status.busy": "2021-10-03T14:25:31.459662Z",
     "iopub.status.idle": "2021-10-03T14:25:31.50306Z",
     "shell.execute_reply": "2021-10-03T14:25:31.502216Z",
     "shell.execute_reply.started": "2021-10-03T14:25:31.459979Z"
    }
   },
   "outputs": [],
   "source": [
    "# строим нейросеть для анализа табличных данных\n",
    "tabular_model = Sequential([\n",
    "    L.Input(shape=X.shape[1]),\n",
    "    L.Dense(512, activation='relu'),\n",
    "    L.Dropout(0.5),\n",
    "    L.Dense(256, activation='relu'),\n",
    "    L.Dropout(0.5),\n",
    "])"
   ]
  },
  {
   "cell_type": "code",
   "execution_count": null,
   "metadata": {
    "execution": {
     "iopub.execute_input": "2021-10-03T14:25:31.504796Z",
     "iopub.status.busy": "2021-10-03T14:25:31.504416Z",
     "iopub.status.idle": "2021-10-03T14:25:32.049428Z",
     "shell.execute_reply": "2021-10-03T14:25:32.048645Z",
     "shell.execute_reply.started": "2021-10-03T14:25:31.504759Z"
    }
   },
   "outputs": [],
   "source": [
    "# NLP\n",
    "nlp_model = Sequential([\n",
    "    L.Input(shape=MAX_SEQUENCE_LENGTH, name=\"seq_description\"),\n",
    "    L.Embedding(len(tokenize.word_index)+1, MAX_SEQUENCE_LENGTH,),\n",
    "    L.LSTM(256, return_sequences=True),\n",
    "    L.Dropout(0.5),\n",
    "    L.LSTM(128),\n",
    "    L.Dropout(0.25),\n",
    "    L.Dense(64),\n",
    "])"
   ]
  },
  {
   "cell_type": "code",
   "execution_count": null,
   "metadata": {
    "_kg_hide-output": true,
    "execution": {
     "iopub.execute_input": "2021-10-03T14:25:50.397362Z",
     "iopub.status.busy": "2021-10-03T14:25:50.397013Z",
     "iopub.status.idle": "2021-10-03T14:25:50.465163Z",
     "shell.execute_reply": "2021-10-03T14:25:50.464435Z",
     "shell.execute_reply.started": "2021-10-03T14:25:50.397328Z"
    }
   },
   "outputs": [],
   "source": [
    "# объединяем выходы трех нейросетей\n",
    "combinedInput = L.concatenate(\n",
    "    [efficientnet_output, tabular_model.output, nlp_model.output])\n",
    "\n",
    "# being our regression head\n",
    "head = L.Dense(256, activation=\"relu\")(combinedInput)\n",
    "head = L.Dense(1,)(head)\n",
    "\n",
    "model = Model(inputs=[efficientnet_model.input,\n",
    "              tabular_model.input, nlp_model.input], outputs=head)\n",
    "# model.summary()"
   ]
  },
  {
   "cell_type": "code",
   "execution_count": null,
   "metadata": {
    "execution": {
     "iopub.execute_input": "2021-10-03T14:25:54.931388Z",
     "iopub.status.busy": "2021-10-03T14:25:54.931036Z",
     "iopub.status.idle": "2021-10-03T14:25:54.95777Z",
     "shell.execute_reply": "2021-10-03T14:25:54.956692Z",
     "shell.execute_reply.started": "2021-10-03T14:25:54.931356Z"
    }
   },
   "outputs": [],
   "source": [
    "optimizer = tf.keras.optimizers.Adam(0.005)\n",
    "model.compile(loss='MAPE', optimizer=optimizer, metrics=['MAPE'])"
   ]
  },
  {
   "cell_type": "code",
   "execution_count": null,
   "metadata": {
    "execution": {
     "iopub.execute_input": "2021-10-03T14:25:57.848949Z",
     "iopub.status.busy": "2021-10-03T14:25:57.848511Z",
     "iopub.status.idle": "2021-10-03T14:25:57.859886Z",
     "shell.execute_reply": "2021-10-03T14:25:57.858573Z",
     "shell.execute_reply.started": "2021-10-03T14:25:57.848906Z"
    }
   },
   "outputs": [],
   "source": [
    "checkpoint = ModelCheckpoint(\n",
    "    '../working/best_model.hdf5', monitor=['val_MAPE'], verbose=0, mode='min')\n",
    "earlystop = EarlyStopping(\n",
    "    monitor='val_MAPE', patience=10, restore_best_weights=True,)\n",
    "callbacks_list = [checkpoint, earlystop]"
   ]
  },
  {
   "cell_type": "code",
   "execution_count": null,
   "metadata": {
    "_kg_hide-output": true,
    "execution": {
     "iopub.execute_input": "2021-10-03T14:26:43.661078Z",
     "iopub.status.busy": "2021-10-03T14:26:43.660719Z",
     "iopub.status.idle": "2021-10-03T14:55:29.945235Z",
     "shell.execute_reply": "2021-10-03T14:55:29.942714Z",
     "shell.execute_reply.started": "2021-10-03T14:26:43.661028Z"
    }
   },
   "outputs": [],
   "source": [
    "history = model.fit(train_dataset.batch(30),\n",
    "                    epochs=100,\n",
    "                    validation_data=test_dataset.batch(30),\n",
    "                    callbacks=callbacks_list\n",
    "                    )"
   ]
  },
  {
   "cell_type": "code",
   "execution_count": null,
   "metadata": {
    "execution": {
     "iopub.execute_input": "2021-10-03T14:11:54.205622Z",
     "iopub.status.busy": "2021-10-03T14:11:54.204466Z",
     "iopub.status.idle": "2021-10-03T14:11:54.479085Z",
     "shell.execute_reply": "2021-10-03T14:11:54.477269Z",
     "shell.execute_reply.started": "2021-10-03T14:11:54.205573Z"
    }
   },
   "outputs": [],
   "source": [
    "plt.title('Loss')\n",
    "plt.plot(history.history['MAPE'], label='train')\n",
    "plt.plot(history.history['val_MAPE'], label='test')\n",
    "plt.show()"
   ]
  },
  {
   "cell_type": "code",
   "execution_count": null,
   "metadata": {
    "execution": {
     "iopub.execute_input": "2021-10-03T14:11:54.484206Z",
     "iopub.status.busy": "2021-10-03T14:11:54.483779Z",
     "iopub.status.idle": "2021-10-03T14:11:55.869431Z",
     "shell.execute_reply": "2021-10-03T14:11:55.868633Z",
     "shell.execute_reply.started": "2021-10-03T14:11:54.484162Z"
    }
   },
   "outputs": [],
   "source": [
    "model.load_weights('../working/best_model.hdf5')\n",
    "model.save('../working/nn_final.hdf5')"
   ]
  },
  {
   "cell_type": "code",
   "execution_count": null,
   "metadata": {
    "execution": {
     "iopub.execute_input": "2021-10-03T14:11:55.871325Z",
     "iopub.status.busy": "2021-10-03T14:11:55.870965Z",
     "iopub.status.idle": "2021-10-03T14:11:59.868362Z",
     "shell.execute_reply": "2021-10-03T14:11:59.867327Z",
     "shell.execute_reply.started": "2021-10-03T14:11:55.871287Z"
    }
   },
   "outputs": [],
   "source": [
    "test_predict_nn3 = model.predict(test_dataset.batch(30))\n",
    "print(f\"TEST mape: {(mape(y_test, test_predict_nn3[:,0]))*100:0.2f}%\")"
   ]
  },
  {
   "cell_type": "code",
   "execution_count": null,
   "metadata": {
    "execution": {
     "iopub.execute_input": "2021-10-03T14:11:59.870097Z",
     "iopub.status.busy": "2021-10-03T14:11:59.869721Z",
     "iopub.status.idle": "2021-10-03T14:12:03.881929Z",
     "shell.execute_reply": "2021-10-03T14:12:03.881151Z",
     "shell.execute_reply.started": "2021-10-03T14:11:59.870032Z"
    }
   },
   "outputs": [],
   "source": [
    "sub_predict_nn3 = model.predict(sub_dataset.batch(30))\n",
    "sample_submission['price'] = sub_predict_nn3[:, 0]\n",
    "sample_submission.to_csv('nn3_submission.csv', index=False)"
   ]
  },
  {
   "cell_type": "code",
   "execution_count": null,
   "metadata": {
    "execution": {
     "iopub.execute_input": "2021-10-03T14:14:55.313106Z",
     "iopub.status.busy": "2021-10-03T14:14:55.312651Z",
     "iopub.status.idle": "2021-10-03T14:14:55.335893Z",
     "shell.execute_reply": "2021-10-03T14:14:55.334973Z",
     "shell.execute_reply.started": "2021-10-03T14:14:55.313049Z"
    }
   },
   "outputs": [],
   "source": [
    "blend_sub_predict_3 = (\n",
    "    np.exp(submissions_cat['blend'].values) + sub_predict_nn3[:, 0]) / 2\n",
    "sample_submission['price'] = blend_sub_predict_3\n",
    "sample_submission.to_csv('blend_submission_3.csv', index=False)\n",
    "sample_submission.head(10)"
   ]
  },
  {
   "cell_type": "markdown",
   "metadata": {},
   "source": [
    "#### mape на лидерборде 11.87%, что хуже, чем предыдущие версии blend. Возможно, для обработки изображений были выбраны неправильные аугментации"
   ]
  },
  {
   "cell_type": "code",
   "execution_count": null,
   "metadata": {},
   "outputs": [],
   "source": []
  }
 ],
 "metadata": {
  "kernelspec": {
   "display_name": "Python 3",
   "language": "python",
   "name": "python3"
  },
  "language_info": {
   "codemirror_mode": {
    "name": "ipython",
    "version": 3
   },
   "file_extension": ".py",
   "mimetype": "text/x-python",
   "name": "python",
   "nbconvert_exporter": "python",
   "pygments_lexer": "ipython3",
   "version": "3.8.8"
  }
 },
 "nbformat": 4,
 "nbformat_minor": 4
}
